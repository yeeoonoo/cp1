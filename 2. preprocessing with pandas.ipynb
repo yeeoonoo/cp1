{
 "cells": [
  {
   "cell_type": "markdown",
   "metadata": {},
   "source": [
    "저장해둔 parquet파일을 읽어온다.\n",
    "용이한 전처리를 위해 판다스 데이터프레임으로 불러왔다."
   ]
  },
  {
   "cell_type": "code",
   "execution_count": 1,
   "metadata": {},
   "outputs": [],
   "source": [
    "import pandas as pd"
   ]
  },
  {
   "cell_type": "code",
   "execution_count": 2,
   "metadata": {},
   "outputs": [],
   "source": [
    "df = pd.read_parquet('data/market.parquet')"
   ]
  },
  {
   "cell_type": "code",
   "execution_count": 3,
   "metadata": {},
   "outputs": [
    {
     "data": {
      "text/html": [
       "<div>\n",
       "<style scoped>\n",
       "    .dataframe tbody tr th:only-of-type {\n",
       "        vertical-align: middle;\n",
       "    }\n",
       "\n",
       "    .dataframe tbody tr th {\n",
       "        vertical-align: top;\n",
       "    }\n",
       "\n",
       "    .dataframe thead th {\n",
       "        text-align: right;\n",
       "    }\n",
       "</style>\n",
       "<table border=\"1\" class=\"dataframe\">\n",
       "  <thead>\n",
       "    <tr style=\"text-align: right;\">\n",
       "      <th></th>\n",
       "      <th>event_time</th>\n",
       "      <th>event_type</th>\n",
       "      <th>product_id</th>\n",
       "      <th>category_id</th>\n",
       "      <th>category_code</th>\n",
       "      <th>brand</th>\n",
       "      <th>price</th>\n",
       "      <th>user_id</th>\n",
       "      <th>user_session</th>\n",
       "    </tr>\n",
       "  </thead>\n",
       "  <tbody>\n",
       "    <tr>\n",
       "      <th>0</th>\n",
       "      <td>2019-11-02 13:29:04</td>\n",
       "      <td>view</td>\n",
       "      <td>12300059</td>\n",
       "      <td>2053013556311359947</td>\n",
       "      <td>construction.tools.drill</td>\n",
       "      <td>bosch</td>\n",
       "      <td>69.17</td>\n",
       "      <td>513196170</td>\n",
       "      <td>00000510-834a-498a-9bed-561a90c5125e</td>\n",
       "    </tr>\n",
       "    <tr>\n",
       "      <th>1</th>\n",
       "      <td>2019-11-16 08:11:45</td>\n",
       "      <td>view</td>\n",
       "      <td>1801881</td>\n",
       "      <td>2053013554415534427</td>\n",
       "      <td>electronics.video.tv</td>\n",
       "      <td>samsung</td>\n",
       "      <td>558.55</td>\n",
       "      <td>572115980</td>\n",
       "      <td>000007b4-6d31-4590-b88f-0f68d1cee73c</td>\n",
       "    </tr>\n",
       "    <tr>\n",
       "      <th>2</th>\n",
       "      <td>2019-11-01 19:07:11</td>\n",
       "      <td>view</td>\n",
       "      <td>1002544</td>\n",
       "      <td>2053013555631882655</td>\n",
       "      <td>electronics.smartphone</td>\n",
       "      <td>apple</td>\n",
       "      <td>458.25</td>\n",
       "      <td>514001239</td>\n",
       "      <td>000009c4-a1dd-4764-87d9-24f3d7e43c4f</td>\n",
       "    </tr>\n",
       "    <tr>\n",
       "      <th>3</th>\n",
       "      <td>2019-11-01 19:08:13</td>\n",
       "      <td>view</td>\n",
       "      <td>1004659</td>\n",
       "      <td>2053013555631882655</td>\n",
       "      <td>electronics.smartphone</td>\n",
       "      <td>samsung</td>\n",
       "      <td>716.76</td>\n",
       "      <td>514001239</td>\n",
       "      <td>000009c4-a1dd-4764-87d9-24f3d7e43c4f</td>\n",
       "    </tr>\n",
       "    <tr>\n",
       "      <th>4</th>\n",
       "      <td>2019-11-14 13:16:20</td>\n",
       "      <td>view</td>\n",
       "      <td>1480477</td>\n",
       "      <td>2053013561092866779</td>\n",
       "      <td>computers.desktop</td>\n",
       "      <td>apple</td>\n",
       "      <td>1029.60</td>\n",
       "      <td>529435838</td>\n",
       "      <td>00002268-1b1a-4787-b8ec-e76c2da106aa</td>\n",
       "    </tr>\n",
       "  </tbody>\n",
       "</table>\n",
       "</div>"
      ],
      "text/plain": [
       "           event_time event_type  product_id          category_id  \\\n",
       "0 2019-11-02 13:29:04       view    12300059  2053013556311359947   \n",
       "1 2019-11-16 08:11:45       view     1801881  2053013554415534427   \n",
       "2 2019-11-01 19:07:11       view     1002544  2053013555631882655   \n",
       "3 2019-11-01 19:08:13       view     1004659  2053013555631882655   \n",
       "4 2019-11-14 13:16:20       view     1480477  2053013561092866779   \n",
       "\n",
       "              category_code    brand    price    user_id  \\\n",
       "0  construction.tools.drill    bosch    69.17  513196170   \n",
       "1      electronics.video.tv  samsung   558.55  572115980   \n",
       "2    electronics.smartphone    apple   458.25  514001239   \n",
       "3    electronics.smartphone  samsung   716.76  514001239   \n",
       "4         computers.desktop    apple  1029.60  529435838   \n",
       "\n",
       "                           user_session  \n",
       "0  00000510-834a-498a-9bed-561a90c5125e  \n",
       "1  000007b4-6d31-4590-b88f-0f68d1cee73c  \n",
       "2  000009c4-a1dd-4764-87d9-24f3d7e43c4f  \n",
       "3  000009c4-a1dd-4764-87d9-24f3d7e43c4f  \n",
       "4  00002268-1b1a-4787-b8ec-e76c2da106aa  "
      ]
     },
     "execution_count": 3,
     "metadata": {},
     "output_type": "execute_result"
    }
   ],
   "source": [
    "df.head()"
   ]
  },
  {
   "cell_type": "markdown",
   "metadata": {},
   "source": [
    "Preprocessing\n",
    "\n",
    "1. category_code컬럼 값 정리('.'기준으로 문자열 나눠 저장)\n",
    "2. category_id컬럼 삭제\n",
    "3. event_time컬럼의 datetime 순으로 데이터프레임 정렬"
   ]
  },
  {
   "cell_type": "code",
   "execution_count": 4,
   "metadata": {},
   "outputs": [],
   "source": [
    "#category_code의 맨 뒤 문자열을 추출하여 product 컬럼으로 추가\n",
    "df.insert(5,'product', df['category_code'].apply(lambda x : x.split('.')[-1]))\n",
    "\n",
    "#category_code의 중간 문자열을 추출하여 sub_category 컬럼으로 추가(없는 경우 product값으로 대체됨)\n",
    "df.insert(5,'sub_category', df['category_code'].apply(lambda x : x.split('.')[1]))\n",
    "\n",
    "#category_code 값에서 제품명을 제거, '.'대신 '/'으로 교체\n",
    "df['category_code'] = df['category_code'].apply(lambda x : x.split('.')[0])\n",
    "\n",
    "#category_id컬럼 삭제\n",
    "df = df.drop('category_id', axis=1)"
   ]
  },
  {
   "cell_type": "code",
   "execution_count": 5,
   "metadata": {},
   "outputs": [],
   "source": [
    "#event_time컬럼의 datetime 순으로 데이터프레임 정렬\n",
    "df.sort_values(by=['event_time'], inplace=True)\n",
    "df.reset_index(drop=True, inplace=True)"
   ]
  },
  {
   "cell_type": "code",
   "execution_count": 6,
   "metadata": {},
   "outputs": [
    {
     "data": {
      "text/html": [
       "<div>\n",
       "<style scoped>\n",
       "    .dataframe tbody tr th:only-of-type {\n",
       "        vertical-align: middle;\n",
       "    }\n",
       "\n",
       "    .dataframe tbody tr th {\n",
       "        vertical-align: top;\n",
       "    }\n",
       "\n",
       "    .dataframe thead th {\n",
       "        text-align: right;\n",
       "    }\n",
       "</style>\n",
       "<table border=\"1\" class=\"dataframe\">\n",
       "  <thead>\n",
       "    <tr style=\"text-align: right;\">\n",
       "      <th></th>\n",
       "      <th>event_time</th>\n",
       "      <th>event_type</th>\n",
       "      <th>product_id</th>\n",
       "      <th>category_code</th>\n",
       "      <th>sub_category</th>\n",
       "      <th>product</th>\n",
       "      <th>brand</th>\n",
       "      <th>price</th>\n",
       "      <th>user_id</th>\n",
       "      <th>user_session</th>\n",
       "    </tr>\n",
       "  </thead>\n",
       "  <tbody>\n",
       "    <tr>\n",
       "      <th>0</th>\n",
       "      <td>2019-11-01 00:00:00</td>\n",
       "      <td>view</td>\n",
       "      <td>1003461</td>\n",
       "      <td>electronics</td>\n",
       "      <td>smartphone</td>\n",
       "      <td>smartphone</td>\n",
       "      <td>xiaomi</td>\n",
       "      <td>489.07</td>\n",
       "      <td>520088904</td>\n",
       "      <td>4d3b30da-a5e4-49df-b1a8-ba5943f1dd33</td>\n",
       "    </tr>\n",
       "    <tr>\n",
       "      <th>1</th>\n",
       "      <td>2019-11-01 00:00:00</td>\n",
       "      <td>view</td>\n",
       "      <td>5000088</td>\n",
       "      <td>appliances</td>\n",
       "      <td>sewing_machine</td>\n",
       "      <td>sewing_machine</td>\n",
       "      <td>janome</td>\n",
       "      <td>293.65</td>\n",
       "      <td>530496790</td>\n",
       "      <td>8e5f4f83-366c-4f70-860e-ca7417414283</td>\n",
       "    </tr>\n",
       "    <tr>\n",
       "      <th>2</th>\n",
       "      <td>2019-11-01 00:00:01</td>\n",
       "      <td>view</td>\n",
       "      <td>1306421</td>\n",
       "      <td>computers</td>\n",
       "      <td>notebook</td>\n",
       "      <td>notebook</td>\n",
       "      <td>hp</td>\n",
       "      <td>514.56</td>\n",
       "      <td>514028527</td>\n",
       "      <td>df8184cc-3694-4549-8c8c-6b5171877376</td>\n",
       "    </tr>\n",
       "    <tr>\n",
       "      <th>3</th>\n",
       "      <td>2019-11-01 00:00:01</td>\n",
       "      <td>view</td>\n",
       "      <td>1004775</td>\n",
       "      <td>electronics</td>\n",
       "      <td>smartphone</td>\n",
       "      <td>smartphone</td>\n",
       "      <td>xiaomi</td>\n",
       "      <td>183.27</td>\n",
       "      <td>558856683</td>\n",
       "      <td>313628f1-68b8-460d-84f6-cec7a8796ef2</td>\n",
       "    </tr>\n",
       "    <tr>\n",
       "      <th>4</th>\n",
       "      <td>2019-11-01 00:00:01</td>\n",
       "      <td>view</td>\n",
       "      <td>1306894</td>\n",
       "      <td>computers</td>\n",
       "      <td>notebook</td>\n",
       "      <td>notebook</td>\n",
       "      <td>hp</td>\n",
       "      <td>360.09</td>\n",
       "      <td>520772685</td>\n",
       "      <td>816a59f3-f5ae-4ccd-9b23-82aa8c23d33c</td>\n",
       "    </tr>\n",
       "  </tbody>\n",
       "</table>\n",
       "</div>"
      ],
      "text/plain": [
       "           event_time event_type  product_id category_code    sub_category  \\\n",
       "0 2019-11-01 00:00:00       view     1003461   electronics      smartphone   \n",
       "1 2019-11-01 00:00:00       view     5000088    appliances  sewing_machine   \n",
       "2 2019-11-01 00:00:01       view     1306421     computers        notebook   \n",
       "3 2019-11-01 00:00:01       view     1004775   electronics      smartphone   \n",
       "4 2019-11-01 00:00:01       view     1306894     computers        notebook   \n",
       "\n",
       "          product   brand   price    user_id  \\\n",
       "0      smartphone  xiaomi  489.07  520088904   \n",
       "1  sewing_machine  janome  293.65  530496790   \n",
       "2        notebook      hp  514.56  514028527   \n",
       "3      smartphone  xiaomi  183.27  558856683   \n",
       "4        notebook      hp  360.09  520772685   \n",
       "\n",
       "                           user_session  \n",
       "0  4d3b30da-a5e4-49df-b1a8-ba5943f1dd33  \n",
       "1  8e5f4f83-366c-4f70-860e-ca7417414283  \n",
       "2  df8184cc-3694-4549-8c8c-6b5171877376  \n",
       "3  313628f1-68b8-460d-84f6-cec7a8796ef2  \n",
       "4  816a59f3-f5ae-4ccd-9b23-82aa8c23d33c  "
      ]
     },
     "execution_count": 6,
     "metadata": {},
     "output_type": "execute_result"
    }
   ],
   "source": [
    "df.head()"
   ]
  },
  {
   "cell_type": "code",
   "execution_count": 7,
   "metadata": {},
   "outputs": [
    {
     "name": "stdout",
     "output_type": "stream",
     "text": [
      "<class 'pandas.core.frame.DataFrame'>\n",
      "RangeIndex: 42018772 entries, 0 to 42018771\n",
      "Data columns (total 10 columns):\n",
      " #   Column         Dtype         \n",
      "---  ------         -----         \n",
      " 0   event_time     datetime64[ns]\n",
      " 1   event_type     object        \n",
      " 2   product_id     int32         \n",
      " 3   category_code  object        \n",
      " 4   sub_category   object        \n",
      " 5   product        object        \n",
      " 6   brand          object        \n",
      " 7   price          float64       \n",
      " 8   user_id        int32         \n",
      " 9   user_session   object        \n",
      "dtypes: datetime64[ns](1), float64(1), int32(2), object(6)\n",
      "memory usage: 2.8+ GB\n"
     ]
    }
   ],
   "source": [
    "#데이터셋 개요 확인\n",
    "df.info()"
   ]
  },
  {
   "cell_type": "code",
   "execution_count": 8,
   "metadata": {},
   "outputs": [],
   "source": [
    "#parquet파일 덮어씌워 저장\n",
    "df.to_parquet('data/market_final.parquet', compression='gzip')"
   ]
  }
 ],
 "metadata": {
  "kernelspec": {
   "display_name": "Python 3.9.15 ('cp1')",
   "language": "python",
   "name": "python3"
  },
  "language_info": {
   "codemirror_mode": {
    "name": "ipython",
    "version": 3
   },
   "file_extension": ".py",
   "mimetype": "text/x-python",
   "name": "python",
   "nbconvert_exporter": "python",
   "pygments_lexer": "ipython3",
   "version": "3.9.15"
  },
  "orig_nbformat": 4,
  "vscode": {
   "interpreter": {
    "hash": "ce6202e6950aebf2b41c31b966653bbf2dcc562050f824571da82fe431f5a0c7"
   }
  }
 },
 "nbformat": 4,
 "nbformat_minor": 2
}
